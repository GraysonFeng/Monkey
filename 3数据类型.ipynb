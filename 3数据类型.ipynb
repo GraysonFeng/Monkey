{
 "cells": [
  {
   "cell_type": "markdown",
   "metadata": {},
   "source": [
    "## 数据类型：字符串（String）"
   ]
  },
  {
   "cell_type": "code",
   "execution_count": 6,
   "metadata": {},
   "outputs": [
    {
     "name": "stdout",
     "output_type": "stream",
     "text": [
      "用+将字符串合并： 马云有钱\n"
     ]
    }
   ],
   "source": [
    "#案例1：定义字符串\n",
    "nameStr='马云'\n",
    "moneyStr2='有钱'\n",
    "#字符串合并\n",
    "print('用+将字符串合并：',nameStr+moneyStr2)"
   ]
  },
  {
   "cell_type": "code",
   "execution_count": 7,
   "metadata": {},
   "outputs": [
    {
     "name": "stdout",
     "output_type": "stream",
     "text": [
      "我叫 王思聪 ,俺爹是 王健林 \n"
     ]
    }
   ],
   "source": [
    "#案例2：用%s格式化字符串\n",
    "str1='我叫 %s ,俺爹是 %s ' % ('王思聪', '王健林')\n",
    "print(str1)"
   ]
  },
  {
   "cell_type": "markdown",
   "metadata": {},
   "source": [
    "## 数据类型：数值（Number）"
   ]
  },
  {
   "cell_type": "code",
   "execution_count": 2,
   "metadata": {
    "collapsed": true
   },
   "outputs": [],
   "source": [
    "#1）整型：马云年龄50岁\n",
    "age=50\n",
    "#2）浮点型：我用马云的余额宝今天赚了3.53元\n",
    "money=3.53"
   ]
  },
  {
   "cell_type": "markdown",
   "metadata": {},
   "source": [
    "## 数据类型：容器-列表（List）"
   ]
  },
  {
   "cell_type": "code",
   "execution_count": 9,
   "metadata": {
    "collapsed": true
   },
   "outputs": [],
   "source": [
    "'''\n",
    "容器：列表（List）\n",
    "'''\n",
    "#定义列表：病人姓名\n",
    "nameList=['猴子','马云','王健林','马化腾']"
   ]
  },
  {
   "cell_type": "code",
   "execution_count": 10,
   "metadata": {},
   "outputs": [
    {
     "name": "stdout",
     "output_type": "stream",
     "text": [
      "列表长度：病人数目： 4\n"
     ]
    }
   ],
   "source": [
    "#列表长度\n",
    "nameLen=len(nameList)\n",
    "print('列表长度：病人数目：',nameLen)"
   ]
  },
  {
   "cell_type": "code",
   "execution_count": 11,
   "metadata": {},
   "outputs": [
    {
     "name": "stdout",
     "output_type": "stream",
     "text": [
      "增加1个元素： ['猴子', '马云', '王健林', '马化腾', '刘强东']\n"
     ]
    }
   ],
   "source": [
    "#1）容器操作：增加\n",
    "nameList.append('刘强东')\n",
    "print('增加1个元素：',nameList)"
   ]
  },
  {
   "cell_type": "code",
   "execution_count": 12,
   "metadata": {},
   "outputs": [
    {
     "name": "stdout",
     "output_type": "stream",
     "text": [
      "删除第2个元素： ['猴子', '王健林', '马化腾', '刘强东']\n"
     ]
    }
   ],
   "source": [
    "#2）容器操作：删除\n",
    "del nameList[1]\n",
    "print('删除第2个元素：',nameList)"
   ]
  },
  {
   "cell_type": "code",
   "execution_count": 13,
   "metadata": {},
   "outputs": [
    {
     "name": "stdout",
     "output_type": "stream",
     "text": [
      "查询列表的第1个元素： 猴子\n"
     ]
    }
   ],
   "source": [
    "#3）容器操作：查询：使用下标索引来访问列表中的值，下标从0开始\n",
    "name1=nameList[0]\n",
    "print('查询列表的第1个元素：',name1)"
   ]
  },
  {
   "cell_type": "code",
   "execution_count": 14,
   "metadata": {},
   "outputs": [
    {
     "name": "stdout",
     "output_type": "stream",
     "text": [
      "修改之前第1个元素是： 猴子\n",
      "修改之后第1个元素是： 孙悟空\n"
     ]
    }
   ],
   "source": [
    "#4）容器操作：修改：直接指定下标的值\n",
    "print('修改之前第1个元素是：',nameList[0])\n",
    "nameList[0]='孙悟空'\n",
    "print('修改之后第1个元素是：',nameList[0])"
   ]
  },
  {
   "cell_type": "code",
   "execution_count": 15,
   "metadata": {},
   "outputs": [
    {
     "data": {
      "text/plain": [
       "['孙悟空', '王健林', '马化腾', '刘强东']"
      ]
     },
     "execution_count": 15,
     "metadata": {},
     "output_type": "execute_result"
    }
   ],
   "source": [
    "nameList"
   ]
  },
  {
   "cell_type": "markdown",
   "metadata": {},
   "source": [
    "## 数据类型：容器-集合（Sets）"
   ]
  },
  {
   "cell_type": "code",
   "execution_count": 16,
   "metadata": {},
   "outputs": [
    {
     "name": "stdout",
     "output_type": "stream",
     "text": [
      "{'腾讯', '亚马逊', '苹果', '谷歌', 'Facebook', '阿里巴巴'}\n"
     ]
    }
   ],
   "source": [
    "'''\n",
    "容器：集合（Sets）是一个没有重复元素的容器\n",
    "'''\n",
    "#定义集合：6家公司的股票\n",
    "gafataSets={'腾讯','阿里巴巴','苹果','谷歌','Facebook','亚马逊','亚马逊'}\n",
    "print(gafataSets)"
   ]
  },
  {
   "cell_type": "code",
   "execution_count": 17,
   "metadata": {},
   "outputs": [
    {
     "name": "stdout",
     "output_type": "stream",
     "text": [
      "{'腾讯', '阿里巴巴', '京东'}\n"
     ]
    }
   ],
   "source": [
    "#1）容器操作：增加\n",
    "#定义一个空的集合\n",
    "stockSets=set()\n",
    "#使用update()增加元素\n",
    "stockSets.update(['腾讯','阿里巴巴','京东'])\n",
    "print(stockSets)"
   ]
  },
  {
   "cell_type": "code",
   "execution_count": 18,
   "metadata": {},
   "outputs": [
    {
     "name": "stdout",
     "output_type": "stream",
     "text": [
      "{'腾讯', '阿里巴巴'}\n"
     ]
    }
   ],
   "source": [
    "#2）容器操作：删除\n",
    "stockSets.discard('京东')\n",
    "print(stockSets)"
   ]
  },
  {
   "cell_type": "code",
   "execution_count": 19,
   "metadata": {},
   "outputs": [
    {
     "name": "stdout",
     "output_type": "stream",
     "text": [
      "True\n"
     ]
    }
   ],
   "source": [
    "#3）容器操作：查找\n",
    "txBool='腾讯' in stockSets\n",
    "print(txBool)"
   ]
  },
  {
   "cell_type": "code",
   "execution_count": 20,
   "metadata": {},
   "outputs": [
    {
     "name": "stdout",
     "output_type": "stream",
     "text": [
      "{'腾讯', '阿里巴巴', '京东'}\n"
     ]
    }
   ],
   "source": [
    "#4）容器操作：修改\n",
    "#第1步：先删除\n",
    "stockSets.discard('京东')\n",
    "#第2步：再添加\n",
    "stockSets.update(['京东'])\n",
    "print(stockSets)"
   ]
  },
  {
   "cell_type": "markdown",
   "metadata": {},
   "source": [
    "## 数据类型：容器-字典（Dictionary）"
   ]
  },
  {
   "cell_type": "code",
   "execution_count": 21,
   "metadata": {
    "collapsed": true
   },
   "outputs": [],
   "source": [
    "'''\n",
    "容器：字典（Dictionary）\n",
    "'''\n",
    "#定义字典：病人编号和姓名的映射关系\n",
    "patientDic={'001':'猴子','002':'马云','003':'王健林','004':'马化腾'}"
   ]
  },
  {
   "cell_type": "code",
   "execution_count": 22,
   "metadata": {
    "collapsed": true
   },
   "outputs": [],
   "source": [
    "#定义字典：excel病人数据存储\n",
    "patientDic2={'001':['猴子',29,'1型糖尿病','较差'],\n",
    "             '002':['马云',34,'2型糖尿病','好转'],\n",
    "             '003':['王健林',28,'1型糖尿病','显著好转'],\n",
    "             '004':['马化腾',52,'2型糖尿病','好转']}"
   ]
  },
  {
   "cell_type": "code",
   "execution_count": 23,
   "metadata": {},
   "outputs": [
    {
     "name": "stdout",
     "output_type": "stream",
     "text": [
      "{'001': ['猴子', 29, '1型糖尿病', '较差'], '002': ['马云', 34, '2型糖尿病', '好转'], '003': ['王健林', 28, '1型糖尿病', '显著好转'], '004': ['马化腾', 52, '2型糖尿病', '好转'], '005': ['王思聪', 30, '1型糖尿病', '好转']}\n"
     ]
    }
   ],
   "source": [
    "#1)容器操作：增加\n",
    "patientDic2['005']=['王思聪',30,'1型糖尿病','好转']\n",
    "print(patientDic2)"
   ]
  },
  {
   "cell_type": "code",
   "execution_count": 24,
   "metadata": {
    "collapsed": true
   },
   "outputs": [],
   "source": [
    "#2)容器操作：删除\n",
    "del patientDic2['005']"
   ]
  },
  {
   "cell_type": "code",
   "execution_count": 25,
   "metadata": {},
   "outputs": [
    {
     "name": "stdout",
     "output_type": "stream",
     "text": [
      "['猴子', 29, '1型糖尿病', '较差']\n"
     ]
    }
   ],
   "source": [
    "#3)容器操作：查询，根据病人编号查询病人信息\n",
    "valueList1=patientDic2['001']\n",
    "print(valueList1)"
   ]
  },
  {
   "cell_type": "code",
   "execution_count": 26,
   "metadata": {},
   "outputs": [
    {
     "name": "stdout",
     "output_type": "stream",
     "text": [
      "修改之前，病人信息： ['猴子', 29, '1型糖尿病', '较差']\n",
      "修改之后，病人信息： ['猴子', 29, '1型糖尿病', '好转']\n"
     ]
    }
   ],
   "source": [
    "#4)容器操作：修改\n",
    "print('修改之前，病人信息：',patientDic2['001'])\n",
    "patientDic2['001']=['猴子', 29, '1型糖尿病', '好转']\n",
    "print('修改之后，病人信息：',patientDic2['001'])"
   ]
  },
  {
   "cell_type": "code",
   "execution_count": 27,
   "metadata": {},
   "outputs": [
    {
     "name": "stdout",
     "output_type": "stream",
     "text": [
      "{'001': ['猴子', 29, '1型糖尿病', '好转'], '002': ['马云', 34, '2型糖尿病', '好转'], '003': ['王健林', 28, '1型糖尿病', '显著好转'], '004': ['马化腾', 52, '2型糖尿病', '好转']}\n"
     ]
    }
   ],
   "source": [
    "print(patientDic2)"
   ]
  },
  {
   "cell_type": "markdown",
   "metadata": {},
   "source": [
    "## 数据类型：布尔类型"
   ]
  },
  {
   "cell_type": "code",
   "execution_count": 4,
   "metadata": {},
   "outputs": [
    {
     "name": "stdout",
     "output_type": "stream",
     "text": [
      "判断条件是True\n"
     ]
    }
   ],
   "source": [
    "age=10\n",
    "if age==10:\n",
    "    print('判断条件是True')\n",
    "else:\n",
    "    print('判断条件是False')"
   ]
  },
  {
   "cell_type": "markdown",
   "metadata": {},
   "source": [
    "## 数据类型：空值None"
   ]
  },
  {
   "cell_type": "code",
   "execution_count": 5,
   "metadata": {},
   "outputs": [
    {
     "name": "stdout",
     "output_type": "stream",
     "text": [
      "年龄是空值\n"
     ]
    }
   ],
   "source": [
    "age=None\n",
    "if age==None:\n",
    "    print('年龄是空值')\n",
    "else:\n",
    "    print('年龄不是空值')"
   ]
  }
 ],
 "metadata": {
  "kernelspec": {
   "display_name": "Python [default]",
   "language": "python",
   "name": "python3"
  },
  "language_info": {
   "codemirror_mode": {
    "name": "ipython",
    "version": 3
   },
   "file_extension": ".py",
   "mimetype": "text/x-python",
   "name": "python",
   "nbconvert_exporter": "python",
   "pygments_lexer": "ipython3",
   "version": "3.6.3"
  }
 },
 "nbformat": 4,
 "nbformat_minor": 2
}
