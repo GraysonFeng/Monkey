{
 "cells": [
  {
   "cell_type": "markdown",
   "metadata": {},
   "source": [
    "# 推论统计分析报告"
   ]
  },
  {
   "cell_type": "markdown",
   "metadata": {},
   "source": [
    "## 假设验证的三种类型\n",
    "\n",
    "* 汽车引擎排放标准---单样本检验分析\n",
    "* 斯特鲁普效应---相关配对检验分析\n",
    "* A/B测试---独立双样本检验"
   ]
  },
  {
   "cell_type": "markdown",
   "metadata": {},
   "source": [
    "***"
   ]
  },
  {
   "cell_type": "markdown",
   "metadata": {},
   "source": [
    "## 一. 汽车引擎排放标准---单样本检验分析"
   ]
  },
  {
   "cell_type": "markdown",
   "metadata": {},
   "source": [
    "\"超级引擎\"是一家专门生产汽车引擎的公司，根据政府发布的新排放要求，引擎排放平均值要低于20ppm。\n",
    "\n",
    "公司制造出10台引擎供测试使用，每一台的排放水平如下：\n",
    "\n",
    "15.6 16.2 22.5 20.5 16.4 19.4 16.6 17.9 12.7 13.9\n",
    "\n",
    "问题：怎么知道公司生产的引擎是否符合政府规定？"
   ]
  },
  {
   "cell_type": "code",
   "execution_count": 4,
   "metadata": {},
   "outputs": [],
   "source": [
    "#导入包\n",
    "import pandas as pd\n",
    "import numpy as np\n",
    "import matplotlib.pyplot as plt\n",
    "\n",
    "#样本数据集\n",
    "sample=pd.Series([15.6,16.2,22.5,20.5,16.4,19.4,16.6,17.9,12.7,13.9])"
   ]
  },
  {
   "cell_type": "markdown",
   "metadata": {},
   "source": [
    "### 1.描述统计分析"
   ]
  },
  {
   "cell_type": "code",
   "execution_count": 8,
   "metadata": {},
   "outputs": [
    {
     "name": "stdout",
     "output_type": "stream",
     "text": [
      "样本平均值= 17.169999999999998 单位：ppm\n",
      "样本标准差= 2.9814426038413018 单位：ppm\n"
     ]
    }
   ],
   "source": [
    "#样本平均值\n",
    "sample_mean=sample.mean()\n",
    "#样本标准差\n",
    "sample_std=sample.std()\n",
    "print(\"样本平均值=\",sample_mean,\"单位：ppm\")\n",
    "print(\"样本标准差=\",sample_std,\"单位：ppm\")"
   ]
  },
  {
   "cell_type": "markdown",
   "metadata": {},
   "source": [
    "pandas计算的标准差，默认除以的是n-1，也就是计算出的是样本标准差用来估计总体标准差的"
   ]
  },
  {
   "cell_type": "markdown",
   "metadata": {},
   "source": [
    "### 2.推论统计分析"
   ]
  },
  {
   "cell_type": "markdown",
   "metadata": {},
   "source": [
    "#### （1）假设检验-提出问题"
   ]
  },
  {
   "cell_type": "markdown",
   "metadata": {},
   "source": [
    "零假设H0：公司生产的引擎不满足新规定，也就是平均值u>=20\n",
    "\n",
    "备选假设H1：公司生产的引擎满足新规定，也就是平均值u<20\n",
    "\n",
    "检验类型：只有1个样本，所以是单样本检验。\n",
    "\n",
    "抽样分布类型：样本的数量为10，小于30，需要利用seaborn包来查看数据集的分布图来"
   ]
  },
  {
   "cell_type": "code",
   "execution_count": 12,
   "metadata": {},
   "outputs": [
    {
     "data": {
      "image/png": "[encoded data removed]",
      "text/plain": [
       "<matplotlib.figure.Figure at 0x1ed0a6602b0>"
      ]
     },
     "metadata": {},
     "output_type": "display_data"
    }
   ],
   "source": [
    "#导入数据包\n",
    "import seaborn as sns\n",
    "#解决画图中文乱码\n",
    "plt.rcParams['font.sans-serif']=['SimHei']\n",
    "plt.rcParams['axes.unicode_minus']=False\n",
    "#查看数据集分布\n",
    "sns.distplot(sample)\n",
    "plt.title('样本数据集分布')\n",
    "plt.show()"
   ]
  },
  {
   "cell_type": "markdown",
   "metadata": {},
   "source": [
    "确定分布类型，从上图可以看出数据集的分布近似于正态分布，因此符合t分布。\n",
    "\n",
    "检验方向：由于备选假设中包含小于号，所以我们使用单尾检验中的左尾检验。"
   ]
  },
  {
   "cell_type": "markdown",
   "metadata": {},
   "source": [
    "#### （2）假设检验-找到证据"
   ]
  },
  {
   "cell_type": "markdown",
   "metadata": {},
   "source": [
    "即在零假设成立前提下，得到样本平均值的概率p值"
   ]
  },
  {
   "cell_type": "code",
   "execution_count": 16,
   "metadata": {},
   "outputs": [
    {
     "name": "stdout",
     "output_type": "stream",
     "text": [
      "t值= -3.00164952589 双尾检验的p值 0.0149164142489\n"
     ]
    }
   ],
   "source": [
    "#用python统计包scipy自动计算\n",
    "from scipy  import stats\n",
    "pop_mean=20  #总体平均值：政府发布的标准排量20\n",
    "t,p_twoTail=stats.ttest_1samp(sample,pop_mean)  # ttest_1samp 单独样本下的t检验,注意是1samp\n",
    "print('t值=',t,\"双尾检验的p值\",p_twoTail)"
   ]
  },
  {
   "cell_type": "code",
   "execution_count": 17,
   "metadata": {},
   "outputs": [
    {
     "name": "stdout",
     "output_type": "stream",
     "text": [
      "单尾检验的p值= 0.00745820712445\n"
     ]
    }
   ],
   "source": [
    "'''\n",
    "根据对称性，单尾p值是双尾的1半\n",
    "'''\n",
    "p_oneTail=p_twoTail/2 \n",
    "print(\"单尾检验的p值=\",p_oneTail)"
   ]
  },
  {
   "cell_type": "markdown",
   "metadata": {},
   "source": [
    "#### （3）假设检验-判断标准"
   ]
  },
  {
   "cell_type": "code",
   "execution_count": 18,
   "metadata": {},
   "outputs": [],
   "source": [
    "#判断标准：显著水平选取 alpha=5%\n",
    "alpha=0.05"
   ]
  },
  {
   "cell_type": "markdown",
   "metadata": {},
   "source": [
    "#### （4）假设检验-做出结论"
   ]
  },
  {
   "cell_type": "code",
   "execution_count": 19,
   "metadata": {},
   "outputs": [
    {
     "name": "stdout",
     "output_type": "stream",
     "text": [
      "拒绝零假设，统计显著，即汽车引擎排放满足标准\n"
     ]
    }
   ],
   "source": [
    "'''\n",
    "左尾的判断条件：t<0 and p<alpha\n",
    "右尾的判断条件：t>0 and p<alpha\n",
    "'''\n",
    "#得出结论\n",
    "if(t<0 and p_oneTail<alpha):\n",
    "    print('拒绝零假设，统计显著，即汽车引擎排放满足标准')\n",
    "else:\n",
    "    print(\"接受零假设，无统计显著，即汽车引擎排放不满足标准\")"
   ]
  },
  {
   "cell_type": "markdown",
   "metadata": {},
   "source": [
    "#### （5）置信区间"
   ]
  },
  {
   "cell_type": "markdown",
   "metadata": {},
   "source": [
    "方法一：人工查t分布表求t,然后逐步求置信区间\n",
    "\n",
    "方法二：用excel的TINV（显著水平=1-置信水平，自由度）求t，然后逐步求置信区间\n",
    "\n",
    "方法三：用python的scipy.stats的t,interval模块直接求置信区间"
   ]
  },
  {
   "cell_type": "code",
   "execution_count": 38,
   "metadata": {},
   "outputs": [
    {
     "name": "stdout",
     "output_type": "stream",
     "text": [
      "0.94281493412\n"
     ]
    }
   ],
   "source": [
    "t_ci=2.262157\n",
    "se=stats.sem(sample)\n",
    "print(se)"
   ]
  },
  {
   "cell_type": "code",
   "execution_count": 39,
   "metadata": {},
   "outputs": [
    {
     "name": "stdout",
     "output_type": "stream",
     "text": [
      "CI=[15.037205,19.302795]\n"
     ]
    }
   ],
   "source": [
    "a=sample_mean - t_ci * se\n",
    "b=sample_mean + t_ci * se\n",
    "print('CI=[%f,%f]'%(a,b))"
   ]
  },
  {
   "cell_type": "code",
   "execution_count": 40,
   "metadata": {},
   "outputs": [
    {
     "data": {
      "text/plain": [
       "(15.037204443640904, 19.302795556359094)"
      ]
     },
     "execution_count": 40,
     "metadata": {},
     "output_type": "execute_result"
    }
   ],
   "source": [
    "stats.t.interval(0.95,df=9,loc=sample_mean,scale=se) #和案例不同"
   ]
  },
  {
   "cell_type": "markdown",
   "metadata": {},
   "source": [
    "#### （6）效应量"
   ]
  },
  {
   "cell_type": "code",
   "execution_count": 42,
   "metadata": {},
   "outputs": [
    {
     "name": "stdout",
     "output_type": "stream",
     "text": [
      "d= -0.9492049239364257 R2= 0.500274845399\n"
     ]
    }
   ],
   "source": [
    "#差异指标Cohen's d\n",
    "d=(sample_mean- pop_mean)/sample_std\n",
    "#相关度指标R2\n",
    "n=10\n",
    "df=n-1\n",
    "R2=(t*t)/(t*t+df)\n",
    "print('d=',d,'R2=',R2)"
   ]
  },
  {
   "cell_type": "markdown",
   "metadata": {},
   "source": [
    "#### （7）推论统计分析报告"
   ]
  },
  {
   "cell_type": "markdown",
   "metadata": {},
   "source": [
    "描述统计分析\n",
    "样本平均值17.17ppm，样本标准差2.98ppm\n",
    "\n",
    "推论统计分析\n",
    "\n",
    "* 假设检验\n",
    "独立样本t(9)=-2.262157,p=0.0075(α=5%)，单尾检验（左尾）\n",
    "公司引擎排放满足标准\n",
    "\n",
    "* 置信区间\n",
    "单个平均值的置信区间，95% CI=(15.04,19.30）\n",
    "\n",
    "* 效应量\n",
    "R2=.50\n",
    "d=-0.95，效果显著"
   ]
  },
  {
   "cell_type": "markdown",
   "metadata": {},
   "source": [
    "***"
   ]
  },
  {
   "cell_type": "markdown",
   "metadata": {},
   "source": [
    "## 二. 斯特鲁普效应---相关配对检验分析"
   ]
  },
  {
   "cell_type": "markdown",
   "metadata": {},
   "source": [
    "斯特鲁普效应：心理学中指优势反应（回答字的意思）对非优势反应（回答字的颜色）的干扰。简单来说，斯特鲁普效应是当有与原有认知不同的情况出现时，人们的反应时间会较长。\n",
    "\n",
    "接下来我们要验证斯特普鲁效应。\n",
    "\n",
    "通过网上的stroop实验来测试人的反应时间，每名参与者得到两组有颜色的文字，第一组数据是字体内容和字体颜色一致，第二组数据是字体内容和字体颜色不一致。每名参与者对每组文字说出文字的颜色，并分别统计每名参与制完成每组的时间。"
   ]
  },
  {
   "cell_type": "code",
   "execution_count": 35,
   "metadata": {},
   "outputs": [
    {
     "data": {
      "text/html": [
       "<div>\n",
       "<style scoped>\n",
       "    .dataframe tbody tr th:only-of-type {\n",
       "        vertical-align: middle;\n",
       "    }\n",
       "\n",
       "    .dataframe tbody tr th {\n",
       "        vertical-align: top;\n",
       "    }\n",
       "\n",
       "    .dataframe thead th {\n",
       "        text-align: right;\n",
       "    }\n",
       "</style>\n",
       "<table border=\"1\" class=\"dataframe\">\n",
       "  <thead>\n",
       "    <tr style=\"text-align: right;\">\n",
       "      <th></th>\n",
       "      <th>Congruent</th>\n",
       "      <th>Incongruent</th>\n",
       "    </tr>\n",
       "  </thead>\n",
       "  <tbody>\n",
       "    <tr>\n",
       "      <th>0</th>\n",
       "      <td>12.079</td>\n",
       "      <td>19.278</td>\n",
       "    </tr>\n",
       "    <tr>\n",
       "      <th>1</th>\n",
       "      <td>16.791</td>\n",
       "      <td>18.741</td>\n",
       "    </tr>\n",
       "    <tr>\n",
       "      <th>2</th>\n",
       "      <td>9.564</td>\n",
       "      <td>21.214</td>\n",
       "    </tr>\n",
       "    <tr>\n",
       "      <th>3</th>\n",
       "      <td>8.630</td>\n",
       "      <td>15.687</td>\n",
       "    </tr>\n",
       "    <tr>\n",
       "      <th>4</th>\n",
       "      <td>14.669</td>\n",
       "      <td>22.803</td>\n",
       "    </tr>\n",
       "  </tbody>\n",
       "</table>\n",
       "</div>"
      ],
      "text/plain": [
       "   Congruent  Incongruent\n",
       "0     12.079       19.278\n",
       "1     16.791       18.741\n",
       "2      9.564       21.214\n",
       "3      8.630       15.687\n",
       "4     14.669       22.803"
      ]
     },
     "execution_count": 35,
     "metadata": {},
     "output_type": "execute_result"
    }
   ],
   "source": [
    "#导入包\n",
    "import pandas as pd\n",
    "import numpy as np\n",
    "import matplotlib.pyplot as plt\n",
    "#导入样本数据集\n",
    "f=open('C:/Users/chen jia ni/Desktop/斯特鲁普数据集.csv')#读取的路径含中文的处理方法\n",
    "sample = pd.read_csv(f)\n",
    "sample.head()"
   ]
  },
  {
   "cell_type": "markdown",
   "metadata": {},
   "source": [
    "### 1.描述统计分析"
   ]
  },
  {
   "cell_type": "code",
   "execution_count": 36,
   "metadata": {},
   "outputs": [
    {
     "data": {
      "text/html": [
       "<div>\n",
       "<style scoped>\n",
       "    .dataframe tbody tr th:only-of-type {\n",
       "        vertical-align: middle;\n",
       "    }\n",
       "\n",
       "    .dataframe tbody tr th {\n",
       "        vertical-align: top;\n",
       "    }\n",
       "\n",
       "    .dataframe thead th {\n",
       "        text-align: right;\n",
       "    }\n",
       "</style>\n",
       "<table border=\"1\" class=\"dataframe\">\n",
       "  <thead>\n",
       "    <tr style=\"text-align: right;\">\n",
       "      <th></th>\n",
       "      <th>Congruent</th>\n",
       "      <th>Incongruent</th>\n",
       "    </tr>\n",
       "  </thead>\n",
       "  <tbody>\n",
       "    <tr>\n",
       "      <th>count</th>\n",
       "      <td>24.000000</td>\n",
       "      <td>24.000000</td>\n",
       "    </tr>\n",
       "    <tr>\n",
       "      <th>mean</th>\n",
       "      <td>13.926875</td>\n",
       "      <td>22.350750</td>\n",
       "    </tr>\n",
       "    <tr>\n",
       "      <th>std</th>\n",
       "      <td>3.540219</td>\n",
       "      <td>5.010218</td>\n",
       "    </tr>\n",
       "    <tr>\n",
       "      <th>min</th>\n",
       "      <td>8.630000</td>\n",
       "      <td>15.687000</td>\n",
       "    </tr>\n",
       "    <tr>\n",
       "      <th>25%</th>\n",
       "      <td>11.895250</td>\n",
       "      <td>18.716750</td>\n",
       "    </tr>\n",
       "    <tr>\n",
       "      <th>50%</th>\n",
       "      <td>13.627500</td>\n",
       "      <td>21.046000</td>\n",
       "    </tr>\n",
       "    <tr>\n",
       "      <th>75%</th>\n",
       "      <td>15.671250</td>\n",
       "      <td>24.536000</td>\n",
       "    </tr>\n",
       "    <tr>\n",
       "      <th>max</th>\n",
       "      <td>22.328000</td>\n",
       "      <td>35.255000</td>\n",
       "    </tr>\n",
       "  </tbody>\n",
       "</table>\n",
       "</div>"
      ],
      "text/plain": [
       "       Congruent  Incongruent\n",
       "count  24.000000    24.000000\n",
       "mean   13.926875    22.350750\n",
       "std     3.540219     5.010218\n",
       "min     8.630000    15.687000\n",
       "25%    11.895250    18.716750\n",
       "50%    13.627500    21.046000\n",
       "75%    15.671250    24.536000\n",
       "max    22.328000    35.255000"
      ]
     },
     "execution_count": 36,
     "metadata": {},
     "output_type": "execute_result"
    }
   ],
   "source": [
    "#查看样本描述统计信息\n",
    "sample.describe()"
   ]
  },
  {
   "cell_type": "code",
   "execution_count": 38,
   "metadata": {},
   "outputs": [
    {
     "data": {
      "image/png": "[encoded data removed]",
      "text/plain": [
       "<matplotlib.figure.Figure at 0x18b4ef66400>"
      ]
     },
     "metadata": {},
     "output_type": "display_data"
    }
   ],
   "source": [
    "#信息一致的情况与信息不一致的情况下的反应时间对比图\n",
    "fg=plt.figure(figsize=(10,6))\n",
    "ax1=fg.add_subplot(1,1,1)\n",
    "sample.plot(kind='bar',ax=ax1)\n",
    "plt.show()"
   ]
  },
  {
   "cell_type": "markdown",
   "metadata": {},
   "source": [
    "根据所绘图可以看出：“不一致(Incongruent)”的情况下所用时间均大于“一致(Congruent)”情况，也就是当字体内容和字体颜色不一致时，实验者的平均反应时间会变长。\n",
    "据此，我们对斯特鲁普效应进行假设检验。"
   ]
  },
  {
   "cell_type": "markdown",
   "metadata": {},
   "source": [
    "### 2.推论统计分析"
   ]
  },
  {
   "cell_type": "markdown",
   "metadata": {},
   "source": [
    "#### （1）假设检验-提出问题"
   ]
  },
  {
   "cell_type": "markdown",
   "metadata": {},
   "source": [
    "第一组“一致”的反应时间的均值为u1，第二组“不一致”反应时间的均值为u2.\n",
    "\n",
    "零假设H0：斯特鲁普效应不存在，即u1=u2\n",
    "\n",
    "备选假设H1：斯特鲁普效应存在，即u1<u2\n",
    "\n",
    "检验类型：因为使用的两组数据是相关样本，所以是**相关配对检验**\n",
    "\n",
    "抽样分布类型：样本的数量为24，小于30，相关配对检验只关注每对相关的**差值**，\n",
    "\n",
    "所以我们用seaborn包来查看**差值数据集的分布图**来确定分布类型"
   ]
  },
  {
   "cell_type": "code",
   "execution_count": 39,
   "metadata": {},
   "outputs": [
    {
     "data": {
      "text/html": [
       "<div>\n",
       "<style scoped>\n",
       "    .dataframe tbody tr th:only-of-type {\n",
       "        vertical-align: middle;\n",
       "    }\n",
       "\n",
       "    .dataframe tbody tr th {\n",
       "        vertical-align: top;\n",
       "    }\n",
       "\n",
       "    .dataframe thead th {\n",
       "        text-align: right;\n",
       "    }\n",
       "</style>\n",
       "<table border=\"1\" class=\"dataframe\">\n",
       "  <thead>\n",
       "    <tr style=\"text-align: right;\">\n",
       "      <th></th>\n",
       "      <th>Congruent</th>\n",
       "      <th>Incongruent</th>\n",
       "      <th>差值</th>\n",
       "    </tr>\n",
       "  </thead>\n",
       "  <tbody>\n",
       "    <tr>\n",
       "      <th>0</th>\n",
       "      <td>12.079</td>\n",
       "      <td>19.278</td>\n",
       "      <td>-7.199</td>\n",
       "    </tr>\n",
       "    <tr>\n",
       "      <th>1</th>\n",
       "      <td>16.791</td>\n",
       "      <td>18.741</td>\n",
       "      <td>-1.950</td>\n",
       "    </tr>\n",
       "    <tr>\n",
       "      <th>2</th>\n",
       "      <td>9.564</td>\n",
       "      <td>21.214</td>\n",
       "      <td>-11.650</td>\n",
       "    </tr>\n",
       "    <tr>\n",
       "      <th>3</th>\n",
       "      <td>8.630</td>\n",
       "      <td>15.687</td>\n",
       "      <td>-7.057</td>\n",
       "    </tr>\n",
       "    <tr>\n",
       "      <th>4</th>\n",
       "      <td>14.669</td>\n",
       "      <td>22.803</td>\n",
       "      <td>-8.134</td>\n",
       "    </tr>\n",
       "  </tbody>\n",
       "</table>\n",
       "</div>"
      ],
      "text/plain": [
       "   Congruent  Incongruent      差值\n",
       "0     12.079       19.278  -7.199\n",
       "1     16.791       18.741  -1.950\n",
       "2      9.564       21.214 -11.650\n",
       "3      8.630       15.687  -7.057\n",
       "4     14.669       22.803  -8.134"
      ]
     },
     "execution_count": 39,
     "metadata": {},
     "output_type": "execute_result"
    }
   ],
   "source": [
    "#增加差值列\n",
    "sample['差值']=sample['Congruent']-sample['Incongruent']\n",
    "sample.head()"
   ]
  },
  {
   "cell_type": "code",
   "execution_count": 40,
   "metadata": {},
   "outputs": [
    {
     "data": {
      "image/png": "[encoded data removed]",
      "text/plain": [
       "<matplotlib.figure.Figure at 0x18b503795c0>"
      ]
     },
     "metadata": {},
     "output_type": "display_data"
    }
   ],
   "source": [
    "#解决画图中文乱码\n",
    "plt.rcParams['font.sans-serif']=['SimHei']\n",
    "plt.rcParams['axes.unicode_minus']=False\n",
    "#导入seaborn包，用distplot包做图\n",
    "import seaborn as sns\n",
    "fg=plt.figure(figsize=(10,6))\n",
    "ax1=fg.add_subplot(1,1,1)\n",
    "sns.distplot(sample['差值'])\n",
    "plt.title('差值数据集分布')\n",
    "plt.show()"
   ]
  },
  {
   "cell_type": "markdown",
   "metadata": {},
   "source": [
    "从图中可以看出数据集的分布近似于正态分布，因此符合t分布"
   ]
  },
  {
   "cell_type": "markdown",
   "metadata": {},
   "source": [
    "检验方向：由于备选假设中包含小于号，所以使用左尾检验。"
   ]
  },
  {
   "cell_type": "markdown",
   "metadata": {},
   "source": [
    "#### （2）假设检验-找到证据"
   ]
  },
  {
   "cell_type": "markdown",
   "metadata": {},
   "source": [
    "在零假设成立的前提下，需要得到样本平均值的概率p值"
   ]
  },
  {
   "cell_type": "code",
   "execution_count": 41,
   "metadata": {},
   "outputs": [
    {
     "name": "stdout",
     "output_type": "stream",
     "text": [
      "t值= -8.08861087281 双尾检验的p值= 3.54871914972e-08\n"
     ]
    }
   ],
   "source": [
    "from scipy import stats\n",
    "t,p_twoTail=stats.ttest_rel(sample['Congruent'],sample['Incongruent'])#ttest_rel相关配对检验\n",
    "print('t值=',t,'双尾检验的p值=',p_twoTail)"
   ]
  },
  {
   "cell_type": "code",
   "execution_count": 42,
   "metadata": {},
   "outputs": [
    {
     "name": "stdout",
     "output_type": "stream",
     "text": [
      "单尾检验的p值= 1.77435957486e-08\n"
     ]
    }
   ],
   "source": [
    "p_oneTail=p_twoTail/2\n",
    "print('单尾检验的p值=',p_oneTail)"
   ]
  },
  {
   "cell_type": "markdown",
   "metadata": {},
   "source": [
    "#### （3）假设检验-判断标准"
   ]
  },
  {
   "cell_type": "markdown",
   "metadata": {},
   "source": [
    "** 显著水平alpha=0.05 **"
   ]
  },
  {
   "cell_type": "markdown",
   "metadata": {},
   "source": [
    "#### （4）假设检验-做出结论"
   ]
  },
  {
   "cell_type": "code",
   "execution_count": 44,
   "metadata": {},
   "outputs": [
    {
     "name": "stdout",
     "output_type": "stream",
     "text": [
      "拒绝零假设，有统计显著，即接受备选假设，斯特鲁普效应存在。\n"
     ]
    }
   ],
   "source": [
    "'''\n",
    "左尾判断条件：t<0,and p/2<alpha\n",
    "右尾判断条件：t>0,and p/2<alpha\n",
    "'''\n",
    "alpha=0.05\n",
    "if(t<0 and p_oneTail<alpha):\n",
    "    print(\"拒绝零假设，有统计显著，即接受备选假设，斯特鲁普效应存在。\")\n",
    "else:\n",
    "    print(\"接受零假设，即斯特鲁普效应不存在\")"
   ]
  },
  {
   "cell_type": "markdown",
   "metadata": {},
   "source": [
    "#### （5）置信区间"
   ]
  },
  {
   "cell_type": "markdown",
   "metadata": {},
   "source": [
    "置信水平=0.95，自由度=24-1=23"
   ]
  },
  {
   "cell_type": "code",
   "execution_count": null,
   "metadata": {},
   "outputs": [],
   "source": [
    "用excel的TINV（显著水平，自由度）求得t值为 2.068658"
   ]
  },
  {
   "cell_type": "code",
   "execution_count": 46,
   "metadata": {},
   "outputs": [
    {
     "name": "stdout",
     "output_type": "stream",
     "text": [
      "-8.423875 1.04144891286\n"
     ]
    }
   ],
   "source": [
    "#差值平均值,标准误差\n",
    "sample_mean=sample['差值'].mean()\n",
    "se=stats.sem(sample['差值'])\n",
    "print(sample_mean,se)"
   ]
  },
  {
   "cell_type": "markdown",
   "metadata": {},
   "source": [
    "**方法一：**"
   ]
  },
  {
   "cell_type": "code",
   "execution_count": 50,
   "metadata": {},
   "outputs": [
    {
     "name": "stdout",
     "output_type": "stream",
     "text": [
      "置信区间： (-10.578276219442028, -6.2694737805579743)\n"
     ]
    }
   ],
   "source": [
    "CI=stats.t.interval(0.95,df=23,loc=sample_mean,scale=se)\n",
    "print(\"置信区间：\",CI)"
   ]
  },
  {
   "cell_type": "markdown",
   "metadata": {},
   "source": [
    "**方法二：经查得t=2.068658 **"
   ]
  },
  {
   "cell_type": "code",
   "execution_count": 52,
   "metadata": {},
   "outputs": [
    {
     "name": "stdout",
     "output_type": "stream",
     "text": [
      "两个平均值差值的置信区间，95置信水平 CI=[-10.578277,-6.269473]\n"
     ]
    }
   ],
   "source": [
    "t=2.068658\n",
    "a=sample_mean - t * se\n",
    "b=sample_mean + t * se\n",
    "print('两个平均值差值的置信区间，95置信水平 CI=[%f,%f]'%(a,b))"
   ]
  },
  {
   "cell_type": "markdown",
   "metadata": {},
   "source": [
    "#### （6）效应量"
   ]
  },
  {
   "cell_type": "code",
   "execution_count": 53,
   "metadata": {},
   "outputs": [
    {
     "name": "stdout",
     "output_type": "stream",
     "text": [
      "d= -1.6510807805255563\n"
     ]
    }
   ],
   "source": [
    "#总体均值为0 ：为什么总体均值为0？\n",
    "pop_mean=0\n",
    "sample_std=sample['差值'].std()\n",
    "d=(sample_mean-pop_mean)/sample_std\n",
    "print('d=',d)"
   ]
  },
  {
   "cell_type": "markdown",
   "metadata": {},
   "source": [
    "#### （7）分析报告"
   ]
  },
  {
   "cell_type": "markdown",
   "metadata": {},
   "source": [
    "**描述统计分析**\n",
    "\n",
    "* 字体内容和字体颜色一致情况下，平均反应时间是 13.93 秒,标准差是 3.54 秒\n",
    "\n",
    "* 字体内容和字体颜色不一致情况下，平均反应时间是 22.35 秒,标准差是 5.01 秒\n",
    "\n",
    "* “不一致”情况下所用时间均大于“一致”情况，也就是当字体内容和字体颜色不一致时，实验者的反应时间变长\n",
    "\n",
    "**推论统计分析**\n",
    "\n",
    "* 假设检验\n",
    "相关配对检验t(23)=-8.09, p=1.77e-08 (α=5%), 单尾检验（左尾）\n",
    "统计显著，拒绝零假设，从而验证了斯特鲁普效应。\n",
    "\n",
    "* 置信区间\n",
    "两个平均值差值的置信区间，95%置信水平 CI=[-10.58,-6.27]\n",
    "\n",
    "* 效应量\n",
    "d= - 1.65"
   ]
  },
  {
   "cell_type": "markdown",
   "metadata": {},
   "source": [
    "***"
   ]
  },
  {
   "cell_type": "markdown",
   "metadata": {},
   "source": [
    "## 三. A/B测试---独立双样本检验"
   ]
  },
  {
   "cell_type": "markdown",
   "metadata": {},
   "source": [
    "**A/B 测试：**简单来说，就是为同一个目标制定两个方案（比如两个手机键盘界面），\n",
    "\n",
    "让一部分用户使用 A 方案，另一部分用户使用 B 方案，记录下用户的使用情况，看哪\n",
    "\n",
    "个方案更符合设计。可以看出AB测试对于产品优化有很大的帮助。\n",
    "\n",
    "\n",
    "**案例介绍：**有两款键盘布局不一样的手机(A版本，B版本)，你作为公司的产品经理，\n",
    "\n",
    "想在正式发布产品之前知道，哪个键盘布局对用户体验更好呢？"
   ]
  },
  {
   "cell_type": "markdown",
   "metadata": {},
   "source": [
    "我们将衡量标准定为用户打字时拼错字产生的影响，如果一个键盘布局对用户打字时拼\n",
    "\n",
    "错产生的影响较小，那么这个布局是符合用户体验习惯的。\n",
    "\n",
    "**采集数据：**我们随机抽取实验者，将实验者分成2组，每组25人，A组使用键盘布局\n",
    "\n",
    "A，B组使用键盘布局B。让他们在30秒内打出标准的20个单词文字消息，然后记录每组打错字的数量。"
   ]
  },
  {
   "cell_type": "code",
   "execution_count": 21,
   "metadata": {},
   "outputs": [],
   "source": [
    "#导入包\n",
    "import pandas as pd\n",
    "import numpy as np\n",
    "import matplotlib.pyplot as plt\n",
    "from scipy import stats\n",
    "#解决画图中文乱码\n",
    "plt.rcParams['font.sans-serif']=['SimHei']\n",
    "plt.rcParams['axes.unicode_minus']=False"
   ]
  },
  {
   "cell_type": "code",
   "execution_count": 22,
   "metadata": {},
   "outputs": [
    {
     "data": {
      "text/plain": [
       "<bound method DataFrame.info of      A   B\n",
       "0    6   6\n",
       "1    6  11\n",
       "2    2   8\n",
       "3    7   5\n",
       "4    8  11\n",
       "5    8   8\n",
       "6    2  10\n",
       "7    3   7\n",
       "8    5   4\n",
       "9    7   3\n",
       "10  10   7\n",
       "11   5   6\n",
       "12   4  10\n",
       "13   7  10\n",
       "14   5   6\n",
       "15   7   5\n",
       "16   4  10\n",
       "17   5  11\n",
       "18   2  13\n",
       "19   5   8\n",
       "20   3   5\n",
       "21   4  11\n",
       "22   4   7\n",
       "23   4   8\n",
       "24   4   5>"
      ]
     },
     "execution_count": 22,
     "metadata": {},
     "output_type": "execute_result"
    }
   ],
   "source": [
    "#导入样本数据集\n",
    "f=open('C:/Users/chen jia ni/Desktop/键盘AB测试.csv',encoding=\"UTF-8\")\n",
    "sample=pd.read_csv(f)\n",
    "sample.info"
   ]
  },
  {
   "cell_type": "markdown",
   "metadata": {},
   "source": [
    "### 1.描述统计分析"
   ]
  },
  {
   "cell_type": "code",
   "execution_count": 23,
   "metadata": {},
   "outputs": [
    {
     "data": {
      "text/html": [
       "<div>\n",
       "<style scoped>\n",
       "    .dataframe tbody tr th:only-of-type {\n",
       "        vertical-align: middle;\n",
       "    }\n",
       "\n",
       "    .dataframe tbody tr th {\n",
       "        vertical-align: top;\n",
       "    }\n",
       "\n",
       "    .dataframe thead th {\n",
       "        text-align: right;\n",
       "    }\n",
       "</style>\n",
       "<table border=\"1\" class=\"dataframe\">\n",
       "  <thead>\n",
       "    <tr style=\"text-align: right;\">\n",
       "      <th></th>\n",
       "      <th>A</th>\n",
       "      <th>B</th>\n",
       "    </tr>\n",
       "  </thead>\n",
       "  <tbody>\n",
       "    <tr>\n",
       "      <th>count</th>\n",
       "      <td>25.000000</td>\n",
       "      <td>25.000000</td>\n",
       "    </tr>\n",
       "    <tr>\n",
       "      <th>mean</th>\n",
       "      <td>5.080000</td>\n",
       "      <td>7.800000</td>\n",
       "    </tr>\n",
       "    <tr>\n",
       "      <th>std</th>\n",
       "      <td>2.059935</td>\n",
       "      <td>2.645751</td>\n",
       "    </tr>\n",
       "    <tr>\n",
       "      <th>min</th>\n",
       "      <td>2.000000</td>\n",
       "      <td>3.000000</td>\n",
       "    </tr>\n",
       "    <tr>\n",
       "      <th>25%</th>\n",
       "      <td>4.000000</td>\n",
       "      <td>6.000000</td>\n",
       "    </tr>\n",
       "    <tr>\n",
       "      <th>50%</th>\n",
       "      <td>5.000000</td>\n",
       "      <td>8.000000</td>\n",
       "    </tr>\n",
       "    <tr>\n",
       "      <th>75%</th>\n",
       "      <td>7.000000</td>\n",
       "      <td>10.000000</td>\n",
       "    </tr>\n",
       "    <tr>\n",
       "      <th>max</th>\n",
       "      <td>10.000000</td>\n",
       "      <td>13.000000</td>\n",
       "    </tr>\n",
       "  </tbody>\n",
       "</table>\n",
       "</div>"
      ],
      "text/plain": [
       "               A          B\n",
       "count  25.000000  25.000000\n",
       "mean    5.080000   7.800000\n",
       "std     2.059935   2.645751\n",
       "min     2.000000   3.000000\n",
       "25%     4.000000   6.000000\n",
       "50%     5.000000   8.000000\n",
       "75%     7.000000  10.000000\n",
       "max    10.000000  13.000000"
      ]
     },
     "execution_count": 23,
     "metadata": {},
     "output_type": "execute_result"
    }
   ],
   "source": [
    "#查看描述统计信息\n",
    "sample.describe()"
   ]
  },
  {
   "cell_type": "markdown",
   "metadata": {},
   "source": [
    "由表可得：A版本的平均打错字数为 5.08，低于B版本的平均打错字数为 7.80"
   ]
  },
  {
   "cell_type": "markdown",
   "metadata": {},
   "source": [
    "### 2.推论统计分析"
   ]
  },
  {
   "cell_type": "markdown",
   "metadata": {},
   "source": [
    "#### （1）假设检验-提出问题"
   ]
  },
  {
   "cell_type": "markdown",
   "metadata": {},
   "source": [
    "零假设H0：A版本和B版本没有差别，也就是A版本平均值=B版本平均值。\n",
    "\n",
    "备选假设H1：A版本和B版本有差别，也就是A版本平均值 不等于 B版本平均值。\n",
    "\n",
    "检验类型：因为这里是两组不同的人来测试2组独立版本，所以是双独立样本检验。\n",
    "\n",
    "抽样分布类型：样本的数量为25，小于30，需要利用seaborn包来查看数据集的分布\n",
    "\n",
    "图来确定分布类型。"
   ]
  },
  {
   "cell_type": "code",
   "execution_count": 24,
   "metadata": {},
   "outputs": [
    {
     "data": {
      "image/png": "[encoded data removed]",
      "text/plain": [
       "<matplotlib.figure.Figure at 0x2343ea13128>"
      ]
     },
     "metadata": {},
     "output_type": "display_data"
    },
    {
     "data": {
      "image/png": "[encoded data removed]",
      "text/plain": [
       "<matplotlib.figure.Figure at 0x2343e9622b0>"
      ]
     },
     "metadata": {},
     "output_type": "display_data"
    }
   ],
   "source": [
    "#导入seaborn\n",
    "import seaborn as sns\n",
    "sns.distplot(sample['A'])\n",
    "plt.title('A版本的数据集分布')\n",
    "plt.show()\n",
    "sns.distplot(sample['B'])\n",
    "plt.title('B版本的数据集分布')\n",
    "plt.show()"
   ]
  },
  {
   "cell_type": "markdown",
   "metadata": {},
   "source": [
    "从上图可以看出AB版数据集分布都近似于正态分布，故符合t分布。\n",
    "\n",
    "检验方向：由于备选假设中包含不等号，所以我们使用**双尾检验**。"
   ]
  },
  {
   "cell_type": "markdown",
   "metadata": {},
   "source": [
    "#### （2）假设检验-找到证据"
   ]
  },
  {
   "cell_type": "markdown",
   "metadata": {},
   "source": [
    "在零假设成立的条件下，需要得到样本平均值的概率p值"
   ]
  },
  {
   "cell_type": "code",
   "execution_count": 25,
   "metadata": {},
   "outputs": [
    {
     "name": "stdout",
     "output_type": "stream",
     "text": [
      "t= -4.05593853686 ，p_two= 0.000194574553072 ，df= 45.2781333114\n"
     ]
    }
   ],
   "source": [
    "#Scipy包的双独立样本t检验不能返回自由度，对于后面计算置信区间不方便。\n",
    "#选择使用另一个统计包：statsmodels\n",
    "import statsmodels.stats.weightstats as st\n",
    "#ttest_ind：独立双样本t检验\n",
    "'''\n",
    "usevar='unequal'两个总体方差不一样 ??参数含义\n",
    "返回的第一个值t是假设检验计算出的（t值），\n",
    "第二个p_two是双尾检验的p值\n",
    "第三个df是独立双样本的自由度\n",
    "'''\n",
    "t,p_two,df=st.ttest_ind(sample['A'],sample['B'],usevar='unequal')\n",
    "print('t=',t,'，p_two=',p_two,'，df=',df)"
   ]
  },
  {
   "cell_type": "markdown",
   "metadata": {},
   "source": [
    "#### （3）假设检验-判断标准"
   ]
  },
  {
   "cell_type": "markdown",
   "metadata": {},
   "source": [
    "判断标准，显著水平=0.05"
   ]
  },
  {
   "cell_type": "code",
   "execution_count": 26,
   "metadata": {},
   "outputs": [],
   "source": [
    "alpha=0.05"
   ]
  },
  {
   "cell_type": "markdown",
   "metadata": {},
   "source": [
    "#### （4）假设检验-做出结论"
   ]
  },
  {
   "cell_type": "code",
   "execution_count": 27,
   "metadata": {},
   "outputs": [
    {
     "name": "stdout",
     "output_type": "stream",
     "text": [
      "拒绝零假设，有统计显著，即接受备选假设，即A版本和B版本有差异\n"
     ]
    }
   ],
   "source": [
    "#双尾判断条件：p<显著水平/2时，拒绝零假设，即有显著差异。\n",
    "if(p_two<alpha/2):\n",
    "    print('拒绝零假设，有统计显著，即接受备选假设，即A版本和B版本有差异')\n",
    "else:\n",
    "    print(\"接受零假设，没有统计显著，即A版本和B版本没有差异\")"
   ]
  },
  {
   "cell_type": "markdown",
   "metadata": {},
   "source": [
    "#### （5）置信区间"
   ]
  },
  {
   "cell_type": "markdown",
   "metadata": {},
   "source": [
    "**双独立样本检验置信区间的样本平均值=A版本平均值-B版本平均值**"
   ]
  },
  {
   "cell_type": "code",
   "execution_count": 34,
   "metadata": {},
   "outputs": [
    {
     "name": "stdout",
     "output_type": "stream",
     "text": [
      "-2.7199999999999998 0.670621519435\n"
     ]
    }
   ],
   "source": [
    "a_n=25\n",
    "b_n=25\n",
    "a_mean= 5.08\n",
    "b_mean= 7.80\n",
    "sample_mean=a_mean-b_mean\n",
    "se=np.sqrt( np.square(a_std)/a_n + np.square(b_std)/b_n )\n",
    "print(sample_mean,se)"
   ]
  },
  {
   "cell_type": "code",
   "execution_count": 35,
   "metadata": {},
   "outputs": [
    {
     "name": "stdout",
     "output_type": "stream",
     "text": [
      "置信区间： (-4.1040947893582818, -1.3359052106417182)\n"
     ]
    }
   ],
   "source": [
    "# 方法一：直接求出置信区间\n",
    "CI=stats.t.interval(0.95,df=24,loc=sample_mean,scale=se)\n",
    "print(\"置信区间：\",CI)"
   ]
  },
  {
   "cell_type": "code",
   "execution_count": 36,
   "metadata": {},
   "outputs": [
    {
     "name": "stdout",
     "output_type": "stream",
     "text": [
      "置信水平0.95的置信区间 CI=[-4.104095,-1.335905]\n"
     ]
    }
   ],
   "source": [
    "#方法二：自有度=25-1=24，先用excel求t=2.063899\n",
    "t=-4.05593853686\n",
    "a_n=25\n",
    "b_n=25\n",
    "a_std=2.059935\n",
    "b_std=2.645751\n",
    "a=sample_mean-t2*se\n",
    "b=sample_mean+t2*se\n",
    "print('置信水平0.95的置信区间 CI=[%f,%f]'%(a,b))"
   ]
  },
  {
   "cell_type": "markdown",
   "metadata": {},
   "source": [
    "#### （6）效应量"
   ]
  },
  {
   "cell_type": "markdown",
   "metadata": {},
   "source": [
    "**这里的标准差，因为是双独立样本，需要合并标准差（pooled standard deviations）代替**"
   ]
  },
  {
   "cell_type": "code",
   "execution_count": 37,
   "metadata": {},
   "outputs": [
    {
     "name": "stdout",
     "output_type": "stream",
     "text": [
      "d= -1.14719279897\n"
     ]
    }
   ],
   "source": [
    "#合并标准差\n",
    "a_mean=5.08\n",
    "b_mean=7.80\n",
    "sp=np.sqrt(((a_n-1)*np.square(a_std)+(b_n-1)*np.square(b_std))/(a_n+b_n-2))\n",
    "d=(a_mean-b_mean)/sp\n",
    "print('d=',d)"
   ]
  },
  {
   "cell_type": "markdown",
   "metadata": {},
   "source": [
    "#### （7）统计分析报告"
   ]
  },
  {
   "cell_type": "markdown",
   "metadata": {},
   "source": [
    "描述统计分析\n",
    "\n",
    "* A版本打错字数量的平均值是 5.08个，标准差是 2.06个\n",
    "\n",
    "* B版本打错字数量的平均值是 7.80个，标准差是 2.65个\n",
    "\n",
    "推论统计分析\n",
    "\n",
    "* 独立双样本检验t=-4.06,p=0.00019(alpha=0.05),双尾检验\n",
    "\n",
    "  统计上存在显著差异，拒绝零假设，即A版本和B版本有差异\n",
    "\n",
    "* 置信区间 CI=[-4.10,-1.34]\n",
    "\n",
    "* 效应量=-1.15。"
   ]
  },
  {
   "cell_type": "code",
   "execution_count": null,
   "metadata": {},
   "outputs": [],
   "source": []
  }
 ],
 "metadata": {
  "kernelspec": {
   "display_name": "Python 3",
   "language": "python",
   "name": "python3"
  },
  "language_info": {
   "codemirror_mode": {
    "name": "ipython",
    "version": 3
   },
   "file_extension": ".py",
   "mimetype": "text/x-python",
   "name": "python",
   "nbconvert_exporter": "python",
   "pygments_lexer": "ipython3",
   "version": "3.6.3"
  }
 },
 "nbformat": 4,
 "nbformat_minor": 2
}
