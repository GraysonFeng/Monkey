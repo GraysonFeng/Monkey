{
 "cells": [
  {
   "cell_type": "code",
   "execution_count": 2,
   "metadata": {},
   "outputs": [
    {
     "name": "stdout",
     "output_type": "stream",
     "text": [
      "用+将字符串合并： Kobe黑曼巴\n"
     ]
    }
   ],
   "source": [
    "nameStr='Kobe'\n",
    "basketballStr2='黑曼巴'\n",
    "print('用+将字符串合并：',nameStr+basketballStr2);"
   ]
  },
  {
   "cell_type": "code",
   "execution_count": 3,
   "metadata": {},
   "outputs": [
    {
     "name": "stdout",
     "output_type": "stream",
     "text": [
      "我是保罗,我们是火箭队\n"
     ]
    }
   ],
   "source": [
    "str1='我是%s,我们是%s' % ('保罗','火箭队')\n",
    "print(str1);"
   ]
  },
  {
   "cell_type": "code",
   "execution_count": 4,
   "metadata": {},
   "outputs": [
    {
     "name": "stdout",
     "output_type": "stream",
     "text": [
      "余额宝余额： 0.65\n"
     ]
    }
   ],
   "source": [
    "yuebaomoney=0.65\n",
    "print(\"余额宝余额：\",yuebaomoney);"
   ]
  },
  {
   "cell_type": "code",
   "execution_count": 5,
   "metadata": {},
   "outputs": [
    {
     "name": "stdout",
     "output_type": "stream",
     "text": [
      "['Kobe', 'Tracy', 'Carter', 'Iverson']\n"
     ]
    }
   ],
   "source": [
    "'''\n",
    "列表的四种操作\n",
    "'''\n",
    "#四大得分后位列表\n",
    "sglist=['Kobe','Tracy','Carter','Iverson']\n",
    "print(sglist);"
   ]
  },
  {
   "cell_type": "code",
   "execution_count": 6,
   "metadata": {},
   "outputs": [
    {
     "name": "stdout",
     "output_type": "stream",
     "text": [
      "4\n"
     ]
    }
   ],
   "source": [
    "'''\n",
    "得分后位数\n",
    "'''\n",
    "nameLen=len(sglist)\n",
    "print(nameLen);"
   ]
  },
  {
   "cell_type": "code",
   "execution_count": 7,
   "metadata": {},
   "outputs": [
    {
     "name": "stdout",
     "output_type": "stream",
     "text": [
      "['Kobe', 'Tracy', 'Carter', 'Iverson', 'Harden']\n"
     ]
    }
   ],
   "source": [
    "#列表增加一个得分后卫\n",
    "sglist.append('Harden')\n",
    "print(sglist);"
   ]
  },
  {
   "cell_type": "code",
   "execution_count": 8,
   "metadata": {},
   "outputs": [
    {
     "name": "stdout",
     "output_type": "stream",
     "text": [
      "['Kobe', 'Tracy', 'Carter', 'Harden']\n"
     ]
    }
   ],
   "source": [
    "#列表第4个的艾退役了，从列表中删除，注意用中括号[]\n",
    "del sglist[3]\n",
    "print(sglist);"
   ]
  },
  {
   "cell_type": "code",
   "execution_count": 9,
   "metadata": {},
   "outputs": [
    {
     "name": "stdout",
     "output_type": "stream",
     "text": [
      "Kobe\n"
     ]
    }
   ],
   "source": [
    "#列表查询放在第一个的后卫\n",
    "sg1=sglist[0]\n",
    "print(sg1);"
   ]
  },
  {
   "cell_type": "code",
   "execution_count": 10,
   "metadata": {},
   "outputs": [
    {
     "name": "stdout",
     "output_type": "stream",
     "text": [
      "Tracy\n",
      "Jordan\n"
     ]
    }
   ],
   "source": [
    "#修改列表中的元素\n",
    "print(sglist[1]);\n",
    "sglist[1]='Jordan'\n",
    "print(sglist[1]);"
   ]
  },
  {
   "cell_type": "code",
   "execution_count": 11,
   "metadata": {},
   "outputs": [
    {
     "data": {
      "text/plain": [
       "['Kobe', 'Jordan', 'Carter', 'Harden']"
      ]
     },
     "execution_count": 11,
     "metadata": {},
     "output_type": "execute_result"
    }
   ],
   "source": [
    "sglist"
   ]
  },
  {
   "cell_type": "code",
   "execution_count": 12,
   "metadata": {},
   "outputs": [
    {
     "name": "stdout",
     "output_type": "stream",
     "text": [
      "{'Kobe', 'Harden', 'Iverson', 'Tracy', 'Carter'}\n"
     ]
    }
   ],
   "source": [
    "'''\n",
    "容器：集合（Sets）是一个没有重复元素的容器,集合用大括号\n",
    "'''\n",
    "#集合的增加，关键词 'update'\n",
    "sgSets={'Kobe',\"Iverson\",'Carter','Tracy'}\n",
    "sgSets.update(['Harden']);\n",
    "print(sgSets);\n",
    "#集合添加元素要用中括号[]，不然元素会被按单字拆开"
   ]
  },
  {
   "cell_type": "code",
   "execution_count": 13,
   "metadata": {},
   "outputs": [
    {
     "name": "stdout",
     "output_type": "stream",
     "text": [
      "{'Harden', 'Iverson', 'Tracy', 'Carter'}\n"
     ]
    }
   ],
   "source": [
    "#集合的删减\n",
    "sgSets.discard('Kobe')\n",
    "print(sgSets);"
   ]
  },
  {
   "cell_type": "code",
   "execution_count": 14,
   "metadata": {},
   "outputs": [
    {
     "name": "stdout",
     "output_type": "stream",
     "text": [
      "True\n"
     ]
    }
   ],
   "source": [
    "#集合的查询\n",
    "sgBool='Tracy' in sgSets\n",
    "print(sgBool);"
   ]
  },
  {
   "cell_type": "code",
   "execution_count": 15,
   "metadata": {},
   "outputs": [
    {
     "name": "stdout",
     "output_type": "stream",
     "text": [
      "{'Iverson', 'Jordan', 'Tracy', 'Carter'}\n"
     ]
    }
   ],
   "source": [
    "#集合的修改，先删除，在添加\n",
    "sgSets.discard('Harden')\n",
    "sgSets.update(['Jordan'])\n",
    "print(sgSets);"
   ]
  },
  {
   "cell_type": "code",
   "execution_count": 16,
   "metadata": {},
   "outputs": [
    {
     "name": "stdout",
     "output_type": "stream",
     "text": [
      "{'01': 'Kobe', '02': 'Iverson', '03': 'Tracy'}\n"
     ]
    }
   ],
   "source": [
    "'''\n",
    "容器：字典（Dictionary）\n",
    "'''\n",
    "sgDic1={'01':'Kobe','02':'Iverson','03':'Tracy'}\n",
    "print(sgDic1);"
   ]
  },
  {
   "cell_type": "code",
   "execution_count": 18,
   "metadata": {},
   "outputs": [
    {
     "name": "stdout",
     "output_type": "stream",
     "text": [
      "{'01': ['Kobe', '37'], '02': ['Iverson', '39']}\n"
     ]
    }
   ],
   "source": [
    "sgDic2={'01':['Kobe','37'],'02':['Iverson','39']}\n",
    "print(sgDic2);"
   ]
  },
  {
   "cell_type": "code",
   "execution_count": 19,
   "metadata": {},
   "outputs": [
    {
     "name": "stdout",
     "output_type": "stream",
     "text": [
      "{'01': 'Kobe', '02': 'Iverson', '03': 'Tracy', '04': 'Harden'}\n"
     ]
    }
   ],
   "source": [
    "#增加键值对\n",
    "sgDic1['04']='Harden'\n",
    "print(sgDic1);"
   ]
  },
  {
   "cell_type": "code",
   "execution_count": 20,
   "metadata": {},
   "outputs": [
    {
     "name": "stdout",
     "output_type": "stream",
     "text": [
      "{'01': 'Kobe', '03': 'Tracy', '04': 'Harden'}\n"
     ]
    }
   ],
   "source": [
    "#删除\n",
    "del sgDic1['02']\n",
    "print(sgDic1);"
   ]
  },
  {
   "cell_type": "code",
   "execution_count": 21,
   "metadata": {},
   "outputs": [
    {
     "name": "stdout",
     "output_type": "stream",
     "text": [
      "{'01': 'Jordan', '03': 'Tracy', '04': 'Harden'}\n"
     ]
    }
   ],
   "source": [
    "#修改\n",
    "sgDic1['01']='Jordan'\n",
    "print(sgDic1);"
   ]
  },
  {
   "cell_type": "code",
   "execution_count": 25,
   "metadata": {},
   "outputs": [
    {
     "name": "stdout",
     "output_type": "stream",
     "text": [
      "输出狗狗的年龄，按enter键获取对应人类的年龄：1\n",
      "相当于14岁的人\n"
     ]
    }
   ],
   "source": [
    "'''\n",
    "多个条件判断\n",
    "'''\n",
    "age=int(input('输出狗狗的年龄，按enter键获取对应人类的年龄：'))\n",
    "if age < 0 :\n",
    "    print('狗狗年龄不能小于0')\n",
    "elif age == 1:\n",
    "    print('相当于14岁的人')\n",
    "elif age == 2 :\n",
    "    print('相当于22岁的人')\n",
    "else:\n",
    "    human=22+(age-2)*5\n",
    "    print('对应人类年龄',human);"
   ]
  },
  {
   "cell_type": "code",
   "execution_count": 26,
   "metadata": {},
   "outputs": [
    {
     "name": "stdout",
     "output_type": "stream",
     "text": [
      "输入狗狗年龄可得人类年龄：5\n",
      "对应人类年龄 37\n"
     ]
    }
   ],
   "source": [
    "'''\n",
    "多个条件判断\n",
    "'''\n",
    "age=int(input('输入狗狗年龄可得人类年龄：'))\n",
    "if age < 0:\n",
    "    print('狗不小于0岁')\n",
    "elif age == 1:\n",
    "    print('相当于14岁的人')\n",
    "elif age == 2:\n",
    "    print('相当于22岁的人')\n",
    "else:\n",
    "    human = 22+(age-2)*5\n",
    "    print('对应人类年龄',human);\n",
    "          "
   ]
  },
  {
   "cell_type": "code",
   "execution_count": 36,
   "metadata": {},
   "outputs": [
    {
     "name": "stdout",
     "output_type": "stream",
     "text": [
      "{'谷歌': 'GOOG', '亚马逊': 'AMZN', 'Facebook': 'FB', '苹果': 'AAPL', '阿里巴巴': 'BABA', '腾讯': '0700'}\n"
     ]
    }
   ],
   "source": [
    "\"\"\"\n",
    "循环\n",
    "\"\"\"\n",
    "gafataDict={'谷歌':'Goog','亚马逊':'aMZN','Facebook':'FB',\n",
    "            '苹果':'aapl','阿里巴巴':'BABA','腾讯':'0700'}\n",
    "for key,value in gafataDict.items(): \n",
    "    newValue=value.upper()\n",
    "    gafataDict[key]=newValue\n",
    "print(gafataDict)"
   ]
  },
  {
   "cell_type": "code",
   "execution_count": 48,
   "metadata": {},
   "outputs": [
    {
     "name": "stdout",
     "output_type": "stream",
     "text": [
      "GOOG\n",
      "AMZN\n",
      "FB\n",
      "AAPL\n",
      "0700\n"
     ]
    }
   ],
   "source": [
    "'''\n",
    "continue\n",
    "'''\n",
    "for key,value in gafataDict.items(): \n",
    "    #if条件语句注意最后的：注意等于是两个等号==\n",
    "    if (key=='阿里巴巴'):\n",
    "        continue\n",
    "    print(value);"
   ]
  },
  {
   "cell_type": "code",
   "execution_count": 51,
   "metadata": {},
   "outputs": [
    {
     "name": "stdout",
     "output_type": "stream",
     "text": [
      "当前公司： 谷歌 ,当前股票代码： GOOG\n",
      "当前公司： 亚马逊 ,当前股票代码： AMZN\n",
      "当前公司： Facebook ,当前股票代码： FB\n",
      "查找 苹果 公司的股票代码是 AAPL\n"
     ]
    }
   ],
   "source": [
    "'''\n",
    "break,number=number+1计数\n",
    "'''\n",
    "number=0\n",
    "for key,value in gafataDict.items():\n",
    "    number=number+1\n",
    "    if(number==4):\n",
    "        print('查找',key,'公司的股票代码是',value)\n",
    "        break\n",
    "    print('当前公司：',key,',当前股票代码：',value);"
   ]
  },
  {
   "cell_type": "code",
   "execution_count": 52,
   "metadata": {},
   "outputs": [],
   "source": [
    "'''\n",
    "函数\n",
    "'''\n",
    "#自定义函数\n",
    "def mul(x,y):\n",
    "    z=x*y\n",
    "    print(z);"
   ]
  },
  {
   "cell_type": "code",
   "execution_count": 53,
   "metadata": {},
   "outputs": [
    {
     "name": "stdout",
     "output_type": "stream",
     "text": [
      "2\n"
     ]
    }
   ],
   "source": [
    "#函数的运用\n",
    "a=1\n",
    "b=2\n",
    "c=mul(x=a,y=b);"
   ]
  },
  {
   "cell_type": "code",
   "execution_count": 54,
   "metadata": {},
   "outputs": [
    {
     "name": "stdout",
     "output_type": "stream",
     "text": [
      "调用函数之前b的值= 1\n",
      "调用函数之后b的值= 1\n"
     ]
    }
   ],
   "source": [
    "#参数是不可变数据类型（字符串，元祖，数值）\n",
    "\n",
    "'''\n",
    "使用函数\n",
    "参数是不可变数据类型（字符串，元祖，数值）：\n",
    "传递的只是该数据类型的值（相当于复制一份）\n",
    "使用函数\n",
    "参数是可变数据类型：\n",
    "传递的是该变量的引用地址'''\n",
    "\n",
    "def changeInt(a):\n",
    "    a=a+1;\n",
    "    \n",
    "b=1\n",
    "print('调用之前b的值=',b)\n",
    "changeInt(a=b)    \n",
    "print('调用之后b的值=',b);\n"
   ]
  },
  {
   "cell_type": "code",
   "execution_count": 56,
   "metadata": {},
   "outputs": [
    {
     "name": "stdout",
     "output_type": "stream",
     "text": [
      "调用函数之前的值： ['Iverson', 'Paul']\n",
      "调用函数之后的值： ['Iverson', 'Paul', 'Kobe']\n"
     ]
    }
   ],
   "source": [
    "def changeList(inputList):\n",
    "    inputList.append('Kobe')\n",
    "nameList=['Iverson','Paul']\n",
    "print('调用函数之前的值：',nameList)\n",
    "changeList(inputList=nameList)    \n",
    "print('调用函数之后的值：',nameList)"
   ]
  },
  {
   "cell_type": "code",
   "execution_count": 57,
   "metadata": {},
   "outputs": [
    {
     "name": "stdout",
     "output_type": "stream",
     "text": [
      "['', 'C:\\\\Users\\\\chen jia ni\\\\Anaconda3\\\\python36.zip', 'C:\\\\Users\\\\chen jia ni\\\\Anaconda3\\\\DLLs', 'C:\\\\Users\\\\chen jia ni\\\\Anaconda3\\\\lib', 'C:\\\\Users\\\\chen jia ni\\\\Anaconda3', 'C:\\\\Users\\\\chen jia ni\\\\Anaconda3\\\\lib\\\\site-packages', 'C:\\\\Users\\\\chen jia ni\\\\Anaconda3\\\\lib\\\\site-packages\\\\Babel-2.5.0-py3.6.egg', 'C:\\\\Users\\\\chen jia ni\\\\Anaconda3\\\\lib\\\\site-packages\\\\win32', 'C:\\\\Users\\\\chen jia ni\\\\Anaconda3\\\\lib\\\\site-packages\\\\win32\\\\lib', 'C:\\\\Users\\\\chen jia ni\\\\Anaconda3\\\\lib\\\\site-packages\\\\Pythonwin', 'C:\\\\Users\\\\chen jia ni\\\\Anaconda3\\\\lib\\\\site-packages\\\\IPython\\\\extensions', 'C:\\\\Users\\\\chen jia ni\\\\.ipython']\n"
     ]
    }
   ],
   "source": [
    "'''\n",
    "内置模块\n",
    "'''\n",
    "import sys\n",
    "pathlist = sys.path\n",
    "print(pathlist);"
   ]
  },
  {
   "cell_type": "code",
   "execution_count": 74,
   "metadata": {},
   "outputs": [
    {
     "name": "stdout",
     "output_type": "stream",
     "text": [
      "   编号       球员\n",
      "0  24     kobe\n",
      "1   3  Iverson\n",
      "2   3     Paul\n",
      "3  23   Jordan\n"
     ]
    }
   ],
   "source": [
    "#pandas模块分析数据\n",
    "import pandas as pd\n",
    "#注意C盘后的斜杠改成反斜杠或者两个斜杠\n",
    "fileNameStr='C:\\\\Users\\chen jia ni\\Desktop\\Book1.xlsx'\n",
    "xl = pd.ExcelFile(fileNameStr)\n",
    "player = xl.parse('Sheet1')\n",
    "print(player);"
   ]
  },
  {
   "cell_type": "code",
   "execution_count": 12,
   "metadata": {},
   "outputs": [
    {
     "name": "stdout",
     "output_type": "stream",
     "text": [
      "deque(['001', '002', '003', '04', '005', '006'])\n"
     ]
    }
   ],
   "source": [
    "'''队列\n",
    "队列就像你去餐厅外婆家吃饭排队，新来的人在队列尾部加入，叫做入队。取完票的人从队列首部离开队列，叫做出队'''\n",
    "from collections import deque\n",
    "queue=deque(['001','002','003','04','005'])\n",
    "queue.append('006')\n",
    "print(queue)"
   ]
  },
  {
   "cell_type": "code",
   "execution_count": 13,
   "metadata": {},
   "outputs": [
    {
     "name": "stdout",
     "output_type": "stream",
     "text": [
      "deque(['002', '003', '04', '005', '006'])\n"
     ]
    }
   ],
   "source": [
    "#在队列开头删除元素，先进先出\n",
    "queue.popleft()\n",
    "print(queue)"
   ]
  },
  {
   "cell_type": "code",
   "execution_count": null,
   "metadata": {},
   "outputs": [],
   "source": [
    "# deque 在序列前后执行添加\n",
    "stack=deque(['知乎动态','知乎回答','知乎文章'])\n",
    "stack.appendleft('知乎专栏')\n",
    "print(stack)"
   ]
  },
  {
   "cell_type": "code",
   "execution_count": 9,
   "metadata": {},
   "outputs": [
    {
     "name": "stdout",
     "output_type": "stream",
     "text": [
      "deque(['知乎动态', '知乎回答', '知乎文章'])\n"
     ]
    }
   ],
   "source": [
    "'''#栈这种数据结构有点像像生活中的木桶。你往栈中加入新的元素，就是入栈，新的元素总是放在木桶的最上面。后进先出。\n",
    "'''\n",
    "stack.popleft()#注意popleft和pop的区别\n",
    "print(stack)"
   ]
  },
  {
   "cell_type": "code",
   "execution_count": 80,
   "metadata": {},
   "outputs": [
    {
     "name": "stdout",
     "output_type": "stream",
     "text": [
      "OrderedDict([('谷歌', 'GOOG'), ('亚马逊', 'AMZN'), ('Facebook', 'FB'), ('苹果', 'AAPL')])\n"
     ]
    }
   ],
   "source": [
    "#OrderedDict：按照插入key的顺序，对字典排序\n",
    "from collections import OrderedDict\n",
    "gafataOdDict=OrderedDict({'谷歌':'GOOG','亚马逊':'AMZN','Facebook':'FB',\n",
    "            '苹果':'AAPL'})\n",
    "print(gafataOdDict)"
   ]
  },
  {
   "cell_type": "code",
   "execution_count": 82,
   "metadata": {},
   "outputs": [
    {
     "data": {
      "text/plain": [
       "2"
      ]
     },
     "execution_count": 82,
     "metadata": {},
     "output_type": "execute_result"
    }
   ],
   "source": [
    "'''\n",
    "计数器\n",
    "'''\n",
    "from collections import Counter\n",
    "player=Counter('科比是最好的篮球运动员，乔丹也是最好的篮球运动员')\n",
    "player['员']"
   ]
  },
  {
   "cell_type": "code",
   "execution_count": 84,
   "metadata": {},
   "outputs": [
    {
     "data": {
      "text/plain": [
       "[('是', 2), ('最', 2), ('好', 2)]"
      ]
     },
     "execution_count": 84,
     "metadata": {},
     "output_type": "execute_result"
    }
   ],
   "source": [
    "player.most_common(3)"
   ]
  },
  {
   "cell_type": "code",
   "execution_count": null,
   "metadata": {},
   "outputs": [],
   "source": []
  }
 ],
 "metadata": {
  "kernelspec": {
   "display_name": "Python 3",
   "language": "python",
   "name": "python3"
  },
  "language_info": {
   "codemirror_mode": {
    "name": "ipython",
    "version": 3
   },
   "file_extension": ".py",
   "mimetype": "text/x-python",
   "name": "python",
   "nbconvert_exporter": "python",
   "pygments_lexer": "ipython3",
   "version": "3.6.3"
  }
 },
 "nbformat": 4,
 "nbformat_minor": 2
}
