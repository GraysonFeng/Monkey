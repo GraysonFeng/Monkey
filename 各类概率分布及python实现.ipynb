{
 "cells": [
  {
   "cell_type": "markdown",
   "metadata": {},
   "source": [
    "# 各类概率分布及python实现"
   ]
  },
  {
   "cell_type": "markdown",
   "metadata": {},
   "source": [
    "## 一、概率分布"
   ]
  },
  {
   "cell_type": "markdown",
   "metadata": {},
   "source": [
    "离散概率分布：\n",
    "* 1、伯努力分布（Bernoulli distribution）\n",
    "* 2、二项分布（Binomial Distribution）\n",
    "* 3、几何分布（Geometric distribution）\n",
    "* 4、泊松分布（Poisson distribution）"
   ]
  },
  {
   "cell_type": "markdown",
   "metadata": {},
   "source": [
    "连续概率分布：\n",
    "* 1、正态分布（Normal distribution）\n",
    "* 2、幂律分布（Power law distribution）"
   ]
  },
  {
   "cell_type": "markdown",
   "metadata": {},
   "source": [
    "## 二、离散概率分布"
   ]
  },
  {
   "cell_type": "markdown",
   "metadata": {},
   "source": [
    "### 1、伯努力分布（Bernoulli distribution）"
   ]
  },
  {
   "cell_type": "markdown",
   "metadata": {},
   "source": [
    "一次伯努利试验：抛一次硬币，成功：正面朝上记为1，失败：反面朝上记为0。成功概率0.5"
   ]
  },
  {
   "cell_type": "code",
   "execution_count": 28,
   "metadata": {},
   "outputs": [
    {
     "data": {
      "text/plain": [
       "Text(0.5,1,'伯努利分布：p=0.50')"
      ]
     },
     "execution_count": 28,
     "metadata": {},
     "output_type": "execute_result"
    },
    {
     "data": {
      "image/png": "[encoded data removed]",
      "text/plain": [
       "<matplotlib.figure.Figure at 0x2cf0d5301d0>"
      ]
     },
     "metadata": {},
     "output_type": "display_data"
    }
   ],
   "source": [
    "#引入科学计算包，概率分布实现过程均需用到scipy的stats模块\n",
    "import scipy.stats as stats\n",
    "import numpy as np\n",
    "\n",
    "#引入绘图包\n",
    "import matplotlib.pyplot as plt\n",
    "% matplotlib inline\n",
    "\n",
    "#解决画图中文乱码\n",
    "plt.rcParams['font.sans-serif']=['SimHei']\n",
    "plt.rcParams['axes.unicode_minus']=False\n",
    "\n",
    "#定义随机变量\n",
    "#生成一个（0,1）等差数组\n",
    "X = np.arange(0,2,1) \n",
    "p = 0.5\n",
    "\n",
    "#伯努利概率函数：自变量X，成功概率p\n",
    "Y = stats.bernoulli.pmf(X,p)\n",
    "\n",
    "fig = plt.figure()\n",
    "ax = fig.add_subplot()\n",
    "#绘图，marker：点的形状，linestyle：线条的形状,color：点的颜色，可简写为 c='r'\n",
    "plt.plot(X,Y,marker = 'o',color='red',linestyle = 'None' )\n",
    "#vlines绘制垂直线，参数的含义（x轴坐标轴，y轴最小值，y轴最大值）\n",
    "plt.vlines(X,0,Y,colors ='b',lw = 2)\n",
    "plt.ylim(0,0.6)#设置y轴下限和上限\n",
    "plt.xlabel(\"随机变量X：抛硬币一次正面朝上\")\n",
    "plt.ylabel(\"概率\")\n",
    "plt.title('伯努利分布：p=%.2f' % p)"
   ]
  },
  {
   "cell_type": "markdown",
   "metadata": {},
   "source": [
    "### 2、二项分布（Binomial Distribution）"
   ]
  },
  {
   "cell_type": "markdown",
   "metadata": {},
   "source": [
    "抛五次硬币正面朝上的概率"
   ]
  },
  {
   "cell_type": "code",
   "execution_count": 19,
   "metadata": {},
   "outputs": [
    {
     "data": {
      "text/plain": [
       "Text(0.5,1,'二项分布：n=5,p=0.50')"
      ]
     },
     "execution_count": 19,
     "metadata": {},
     "output_type": "execute_result"
    },
    {
     "data": {
      "image/png": "[encoded data removed]",
      "text/plain": [
       "<matplotlib.figure.Figure at 0x2cf0f4a3860>"
      ]
     },
     "metadata": {},
     "output_type": "display_data"
    }
   ],
   "source": [
    "#定义随机变量\n",
    "n = 5\n",
    "p = 0.5\n",
    "X = np.arange(0,n+1,1)\n",
    "Y = stats.binom.pmf(X, n ,p)\n",
    "\n",
    "#绘图\n",
    "plt.plot(X, Y, marker = 'o',c='r',linestyle = 'None')\n",
    "#vlines绘制垂直线，参数的含义（x轴坐标轴，y轴最小值，y轴最大值）\n",
    "plt.vlines(X, 0 , Y,colors='b',lw =2)#lw为垂线的粗细\n",
    "plt.xlabel('随机变量：抛硬币正面朝上的次数')\n",
    "plt.ylabel('概率')\n",
    "plt.ylim(0)\n",
    "plt.title('二项分布：n=%i,p=%.2f' % (n,p))"
   ]
  },
  {
   "cell_type": "markdown",
   "metadata": {},
   "source": [
    "### 3、几何分布（Geometric distribution）"
   ]
  },
  {
   "cell_type": "markdown",
   "metadata": {},
   "source": [
    "在n次伯努利试验中，试验k次才得到第一次成功的机率。详细地说，是：前k-1次皆失败，第k次成功的概率。例如表白五次才成功的概率。"
   ]
  },
  {
   "cell_type": "code",
   "execution_count": 22,
   "metadata": {},
   "outputs": [
    {
     "data": {
      "text/plain": [
       "Text(0.5,1,'几何分布：p = 0.60')"
      ]
     },
     "execution_count": 22,
     "metadata": {},
     "output_type": "execute_result"
    },
    {
     "data": {
      "image/png": "[encoded data removed]",
      "text/plain": [
       "<matplotlib.figure.Figure at 0x2cf0f5f3518>"
      ]
     },
     "metadata": {},
     "output_type": "display_data"
    }
   ],
   "source": [
    "#表白多少次才成功的概率，次数必须大于等于1\n",
    "#定义随机变量\n",
    "k = 5\n",
    "p = 0.6 \n",
    "X = np.arange(1,k+1,1)\n",
    "\n",
    "#概率函数\n",
    "Y = stats.geom.pmf(X,p)\n",
    "\n",
    "#绘图\n",
    "plt.plot(X, Y, marker = 'o',c='r', linestyle = 'None')\n",
    "#vlines绘制垂直线，参数的含义（x轴坐标轴，y轴最小值，y轴最大值）\n",
    "plt.vlines(X, 0, Y,colors='b',lw = 3)#lw为垂线的粗细\n",
    "plt.xlabel('随机变量：表白k次才首次成功')\n",
    "plt.ylabel('概率')\n",
    "plt.ylim(0)\n",
    "plt.title('几何分布：p = %.2f' % p)"
   ]
  },
  {
   "cell_type": "markdown",
   "metadata": {},
   "source": [
    "### 4、泊松分布（Poisson distribution）"
   ]
  },
  {
   "cell_type": "markdown",
   "metadata": {},
   "source": [
    "在一段时间或空间内，某事件发生的平均次数为m次，则相同时间或空间内，发生该事件k次的概率。"
   ]
  },
  {
   "cell_type": "code",
   "execution_count": 24,
   "metadata": {},
   "outputs": [
    {
     "data": {
      "text/plain": [
       "Text(0.5,1,'泊松分布：平均值mu=2')"
      ]
     },
     "execution_count": 24,
     "metadata": {},
     "output_type": "execute_result"
    },
    {
     "data": {
      "image/png": "[encoded data removed]",
      "text/plain": [
       "<matplotlib.figure.Figure at 0x2cf0f6cc898>"
      ]
     },
     "metadata": {},
     "output_type": "display_data"
    }
   ],
   "source": [
    "#某路口发生K次交通事故的概率，已知平均发生概率的次数为2\n",
    "#定义随机变量\n",
    "mu = 2\n",
    "k = 4\n",
    "X = np.arange(0,k+1,1)\n",
    "\n",
    "#绘图\n",
    "plt.plot(X,Y, marker='o',c='r',linestyle='None')\n",
    "plt.vlines(X,0,Y,colors='b',lw=3)\n",
    "plt.xlabel('随机变量：某路口发生k次交通事故')\n",
    "plt.ylabel('概率')\n",
    "plt.ylim(0)\n",
    "plt.title('泊松分布：平均值mu=%i' % mu)"
   ]
  },
  {
   "cell_type": "markdown",
   "metadata": {},
   "source": [
    "## 三、连续概率分布"
   ]
  },
  {
   "cell_type": "markdown",
   "metadata": {},
   "source": [
    "### 1、正态分布（Normal distribution）"
   ]
  },
  {
   "cell_type": "markdown",
   "metadata": {},
   "source": [
    "连续随机变量中最重要的正态分布，左右对称，此处展示标准正态分布N(0,1)。"
   ]
  },
  {
   "cell_type": "code",
   "execution_count": 39,
   "metadata": {},
   "outputs": [
    {
     "data": {
      "image/png": "[encoded data removed]",
      "text/plain": [
       "<matplotlib.figure.Figure at 0x2cf10a35940>"
      ]
     },
     "metadata": {},
     "output_type": "display_data"
    }
   ],
   "source": [
    "#导入科学计算包，数组包，绘图包\n",
    "import scipy.stats as stats\n",
    "import numpy as np\n",
    "import matplotlib.pyplot as plt\n",
    "\n",
    "#定义随机变量\n",
    "mu=0 #平均值\n",
    "sigma= 1 #标准差\n",
    "X = np.arange(-5, 5,0.1)\n",
    "\n",
    "#概率密度函数\n",
    "y=stats.norm.pdf(X,mu,sigma)\n",
    "#绘图\n",
    "plt.plot(X, y,c='b',lw=3)\n",
    "plt.xlabel('随机变量：x')\n",
    "plt.ylabel('概率：y')\n",
    "plt.title('正态分布：$\\mu$=%.1f,$\\sigma^2$=%.1f' % (mu,sigma))\n",
    "plt.ylim(0)\n",
    "#网格\n",
    "plt.grid(False)"
   ]
  }
 ],
 "metadata": {
  "kernelspec": {
   "display_name": "Python 3",
   "language": "python",
   "name": "python3"
  },
  "language_info": {
   "codemirror_mode": {
    "name": "ipython",
    "version": 3
   },
   "file_extension": ".py",
   "mimetype": "text/x-python",
   "name": "python",
   "nbconvert_exporter": "python",
   "pygments_lexer": "ipython3",
   "version": "3.6.3"
  }
 },
 "nbformat": 4,
 "nbformat_minor": 2
}
